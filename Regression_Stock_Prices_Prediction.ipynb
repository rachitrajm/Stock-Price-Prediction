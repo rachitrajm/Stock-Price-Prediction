{
 "cells": [
  {
   "cell_type": "code",
   "execution_count": 1,
   "metadata": {},
   "outputs": [],
   "source": [
    "import pandas as pd\n",
    "import numpy as np\n",
    "import plotly\n",
    "from sklearn.model_selection import train_test_split\n",
    "from sklearn.linear_model import *\n",
    "from sklearn.metrics import *"
   ]
  },
  {
   "cell_type": "code",
   "execution_count": 2,
   "metadata": {},
   "outputs": [
    {
     "name": "stdout",
     "output_type": "stream",
     "text": [
      "Index(['date', 'open', 'high', 'low', 'close', 'volume', 'Name', 'WeekDay',\n",
      "       'WeekDay No'],\n",
      "      dtype='object') \n",
      "\n",
      "Shape:  (619040, 9)\n"
     ]
    }
   ],
   "source": [
    "data = pd.read_csv('S&P500_5yr_.csv')\n",
    "print(data.columns,\"\\n\")\n",
    "print(\"Shape: \",data.shape)"
   ]
  },
  {
   "cell_type": "code",
   "execution_count": 3,
   "metadata": {},
   "outputs": [
    {
     "data": {
      "text/html": [
       "<div>\n",
       "<style scoped>\n",
       "    .dataframe tbody tr th:only-of-type {\n",
       "        vertical-align: middle;\n",
       "    }\n",
       "\n",
       "    .dataframe tbody tr th {\n",
       "        vertical-align: top;\n",
       "    }\n",
       "\n",
       "    .dataframe thead th {\n",
       "        text-align: right;\n",
       "    }\n",
       "</style>\n",
       "<table border=\"1\" class=\"dataframe\">\n",
       "  <thead>\n",
       "    <tr style=\"text-align: right;\">\n",
       "      <th></th>\n",
       "      <th>date</th>\n",
       "      <th>open</th>\n",
       "      <th>high</th>\n",
       "      <th>low</th>\n",
       "      <th>close</th>\n",
       "      <th>volume</th>\n",
       "      <th>Name</th>\n",
       "      <th>WeekDay</th>\n",
       "      <th>WeekDay No</th>\n",
       "    </tr>\n",
       "  </thead>\n",
       "  <tbody>\n",
       "    <tr>\n",
       "      <th>0</th>\n",
       "      <td>08-02-2013</td>\n",
       "      <td>15.07</td>\n",
       "      <td>15.12</td>\n",
       "      <td>14.63</td>\n",
       "      <td>14.75</td>\n",
       "      <td>8407500</td>\n",
       "      <td>AAL</td>\n",
       "      <td>Friday</td>\n",
       "      <td>6</td>\n",
       "    </tr>\n",
       "    <tr>\n",
       "      <th>1</th>\n",
       "      <td>11-02-2013</td>\n",
       "      <td>14.89</td>\n",
       "      <td>15.01</td>\n",
       "      <td>14.26</td>\n",
       "      <td>14.46</td>\n",
       "      <td>8882000</td>\n",
       "      <td>AAL</td>\n",
       "      <td>Monday</td>\n",
       "      <td>2</td>\n",
       "    </tr>\n",
       "    <tr>\n",
       "      <th>2</th>\n",
       "      <td>12-02-2013</td>\n",
       "      <td>14.45</td>\n",
       "      <td>14.51</td>\n",
       "      <td>14.10</td>\n",
       "      <td>14.27</td>\n",
       "      <td>8126000</td>\n",
       "      <td>AAL</td>\n",
       "      <td>Tuesday</td>\n",
       "      <td>3</td>\n",
       "    </tr>\n",
       "    <tr>\n",
       "      <th>3</th>\n",
       "      <td>13-02-2013</td>\n",
       "      <td>14.30</td>\n",
       "      <td>14.94</td>\n",
       "      <td>14.25</td>\n",
       "      <td>14.66</td>\n",
       "      <td>10259500</td>\n",
       "      <td>AAL</td>\n",
       "      <td>Wednesday</td>\n",
       "      <td>4</td>\n",
       "    </tr>\n",
       "    <tr>\n",
       "      <th>4</th>\n",
       "      <td>14-02-2013</td>\n",
       "      <td>14.94</td>\n",
       "      <td>14.96</td>\n",
       "      <td>13.16</td>\n",
       "      <td>13.99</td>\n",
       "      <td>31879900</td>\n",
       "      <td>AAL</td>\n",
       "      <td>Thursday</td>\n",
       "      <td>5</td>\n",
       "    </tr>\n",
       "  </tbody>\n",
       "</table>\n",
       "</div>"
      ],
      "text/plain": [
       "         date   open   high    low  close    volume Name    WeekDay  \\\n",
       "0  08-02-2013  15.07  15.12  14.63  14.75   8407500  AAL     Friday   \n",
       "1  11-02-2013  14.89  15.01  14.26  14.46   8882000  AAL     Monday   \n",
       "2  12-02-2013  14.45  14.51  14.10  14.27   8126000  AAL    Tuesday   \n",
       "3  13-02-2013  14.30  14.94  14.25  14.66  10259500  AAL  Wednesday   \n",
       "4  14-02-2013  14.94  14.96  13.16  13.99  31879900  AAL   Thursday   \n",
       "\n",
       "   WeekDay No  \n",
       "0           6  \n",
       "1           2  \n",
       "2           3  \n",
       "3           4  \n",
       "4           5  "
      ]
     },
     "execution_count": 3,
     "metadata": {},
     "output_type": "execute_result"
    }
   ],
   "source": [
    "data.head()"
   ]
  },
  {
   "cell_type": "code",
   "execution_count": 4,
   "metadata": {},
   "outputs": [
    {
     "data": {
      "text/plain": [
       "date           0\n",
       "open          11\n",
       "high           8\n",
       "low            8\n",
       "close          0\n",
       "volume         0\n",
       "Name           0\n",
       "WeekDay        0\n",
       "WeekDay No     0\n",
       "dtype: int64"
      ]
     },
     "execution_count": 4,
     "metadata": {},
     "output_type": "execute_result"
    }
   ],
   "source": [
    "data.isnull().sum()"
   ]
  },
  {
   "cell_type": "code",
   "execution_count": 5,
   "metadata": {},
   "outputs": [
    {
     "data": {
      "text/plain": [
       "(array([ 82949,  82949,  82949, 165734, 165857, 165857, 165857, 205076,\n",
       "        239832, 239832, 239832, 434379, 434502, 434502, 434502, 478594,\n",
       "        478594, 478594, 558213, 558213, 558213, 581906, 581906, 581906,\n",
       "        598236, 598236, 598236], dtype=int64),\n",
       " array([1, 2, 3, 1, 1, 2, 3, 1, 1, 2, 3, 1, 1, 2, 3, 1, 2, 3, 1, 2, 3, 1,\n",
       "        2, 3, 1, 2, 3], dtype=int64))"
      ]
     },
     "execution_count": 5,
     "metadata": {},
     "output_type": "execute_result"
    }
   ],
   "source": [
    "np.where(pd.isnull(data))"
   ]
  },
  {
   "cell_type": "code",
   "execution_count": 6,
   "metadata": {},
   "outputs": [],
   "source": [
    "d=['date','open','high','low']\n",
    "for i in range(1,int(data.shape[0])):\n",
    "    for j in range(1,4):\n",
    "        if pd.isnull(data.loc[i,d[j]]):\n",
    "            data.loc[i,d[j]]=(data.loc[i-1,d[j]]+data.loc[i+1,d[j]])/2"
   ]
  },
  {
   "cell_type": "code",
   "execution_count": 7,
   "metadata": {},
   "outputs": [
    {
     "data": {
      "text/plain": [
       "(array([], dtype=int64), array([], dtype=int64))"
      ]
     },
     "execution_count": 7,
     "metadata": {},
     "output_type": "execute_result"
    }
   ],
   "source": [
    "np.where(pd.isnull(data))"
   ]
  },
  {
   "cell_type": "code",
   "execution_count": 8,
   "metadata": {},
   "outputs": [
    {
     "data": {
      "text/html": [
       "<div>\n",
       "<style scoped>\n",
       "    .dataframe tbody tr th:only-of-type {\n",
       "        vertical-align: middle;\n",
       "    }\n",
       "\n",
       "    .dataframe tbody tr th {\n",
       "        vertical-align: top;\n",
       "    }\n",
       "\n",
       "    .dataframe thead th {\n",
       "        text-align: right;\n",
       "    }\n",
       "</style>\n",
       "<table border=\"1\" class=\"dataframe\">\n",
       "  <thead>\n",
       "    <tr style=\"text-align: right;\">\n",
       "      <th></th>\n",
       "      <th>open</th>\n",
       "      <th>high</th>\n",
       "      <th>low</th>\n",
       "      <th>close</th>\n",
       "    </tr>\n",
       "  </thead>\n",
       "  <tbody>\n",
       "    <tr>\n",
       "      <th>open</th>\n",
       "      <td>1.000000</td>\n",
       "      <td>0.999896</td>\n",
       "      <td>0.999882</td>\n",
       "      <td>0.999788</td>\n",
       "    </tr>\n",
       "    <tr>\n",
       "      <th>high</th>\n",
       "      <td>0.999896</td>\n",
       "      <td>1.000000</td>\n",
       "      <td>0.999837</td>\n",
       "      <td>0.999895</td>\n",
       "    </tr>\n",
       "    <tr>\n",
       "      <th>low</th>\n",
       "      <td>0.999882</td>\n",
       "      <td>0.999837</td>\n",
       "      <td>1.000000</td>\n",
       "      <td>0.999892</td>\n",
       "    </tr>\n",
       "    <tr>\n",
       "      <th>close</th>\n",
       "      <td>0.999788</td>\n",
       "      <td>0.999895</td>\n",
       "      <td>0.999892</td>\n",
       "      <td>1.000000</td>\n",
       "    </tr>\n",
       "  </tbody>\n",
       "</table>\n",
       "</div>"
      ],
      "text/plain": [
       "           open      high       low     close\n",
       "open   1.000000  0.999896  0.999882  0.999788\n",
       "high   0.999896  1.000000  0.999837  0.999895\n",
       "low    0.999882  0.999837  1.000000  0.999892\n",
       "close  0.999788  0.999895  0.999892  1.000000"
      ]
     },
     "execution_count": 8,
     "metadata": {},
     "output_type": "execute_result"
    }
   ],
   "source": [
    "d=data.iloc[:,1:5]\n",
    "d.corr(method ='spearman')"
   ]
  },
  {
   "cell_type": "markdown",
   "metadata": {},
   "source": [
    "## Open vs High"
   ]
  },
  {
   "cell_type": "code",
   "execution_count": 9,
   "metadata": {},
   "outputs": [
    {
     "data": {
      "image/png": "[encoded data removed]",
      "text/plain": [
       "<Figure size 432x288 with 1 Axes>"
      ]
     },
     "metadata": {
      "needs_background": "light"
     },
     "output_type": "display_data"
    },
    {
     "name": "stdout",
     "output_type": "stream",
     "text": [
      "Error : 0.01 for high\n"
     ]
    }
   ],
   "source": [
    "X = data.iloc[:,2:3]\n",
    "y = data.iloc[:,1]\n",
    "normalized_X=(X-X.mean())/X.std()\n",
    "normalized_y=(y-y.mean())/y.std()\n",
    "X_train, X_test, y_train, y_test = train_test_split(normalized_X, normalized_y, test_size=0.25, random_state=42)\n",
    "model = LinearRegression()\n",
    "model.fit(X_train,y_train)\n",
    "y_pred = model.predict(X_test)\n",
    "plt.scatter(X_test,y_test)\n",
    "plt.plot(X_test,y_pred, 'red')\n",
    "plt.xlabel('high')\n",
    "plt.ylabel('open')\n",
    "plt.show()\n",
    "err = mean_absolute_error(y_pred, y_test)\n",
    "print(f\"Error : {round(err,2)} for {data.columns[2]}\")"
   ]
  },
  {
   "cell_type": "markdown",
   "metadata": {},
   "source": [
    "## Low vs Close"
   ]
  },
  {
   "cell_type": "code",
   "execution_count": 10,
   "metadata": {},
   "outputs": [
    {
     "data": {
      "image/png": "[encoded data removed]",
      "text/plain": [
       "<Figure size 432x288 with 1 Axes>"
      ]
     },
     "metadata": {
      "needs_background": "light"
     },
     "output_type": "display_data"
    },
    {
     "name": "stdout",
     "output_type": "stream",
     "text": [
      "Error : 0.01 for low\n"
     ]
    }
   ],
   "source": [
    "X = data.iloc[:,3:4]\n",
    "y = data.iloc[:,4]\n",
    "normalized_X=(X-X.mean())/X.std()\n",
    "normalized_y=(y-y.mean())/y.std()\n",
    "X_train, X_test, y_train, y_test = train_test_split(normalized_X, normalized_y, test_size=0.25, random_state=42)\n",
    "model = LinearRegression()\n",
    "model.fit(X_train,y_train)\n",
    "y_pred = model.predict(X_test)\n",
    "plt.scatter(X_test,y_test)\n",
    "plt.plot(X_test,y_pred, 'red')\n",
    "plt.xlabel('low')\n",
    "plt.ylabel('close')\n",
    "plt.show()\n",
    "err = mean_absolute_error(y_pred, y_test)\n",
    "print(f\"Error : {round(err,2)} for {data.columns[3]}\")"
   ]
  },
  {
   "cell_type": "markdown",
   "metadata": {},
   "source": [
    "## Regularized Regression for 'open'"
   ]
  },
  {
   "cell_type": "code",
   "execution_count": 11,
   "metadata": {},
   "outputs": [
    {
     "name": "stdout",
     "output_type": "stream",
     "text": [
      "Error : 0.0051956 for Lasso Regression\n",
      "Error : 0.0035316 for Ridge Regression\n"
     ]
    }
   ],
   "source": [
    "X = data.iloc[:,2:5]\n",
    "y = data.iloc[:,1]\n",
    "normalized_X=(X-X.mean())/X.std()\n",
    "normalized_y=(y-y.mean())/y.std()\n",
    "X_train, X_test, y_train, y_test = train_test_split(normalized_X, normalized_y, test_size=0.25, random_state=42)\n",
    "\n",
    "# Lasso\n",
    "model1 = Lasso(alpha=1e-5)\n",
    "model1.fit(X_train,y_train)\n",
    "y_pred = model1.predict(X_test)\n",
    "err = mean_absolute_error(y_pred, y_test)\n",
    "print(\"Error : %.7f for Lasso Regression\" %(err))\n",
    "\n",
    "# Ridge\n",
    "model2 = Ridge(alpha=1e-3)\n",
    "model2.fit(X_train,y_train)\n",
    "y_pred = model2.predict(X_test)\n",
    "err = mean_absolute_error(y_pred, y_test)\n",
    "print(\"Error : %.7f for Ridge Regression\" %(err))"
   ]
  },
  {
   "cell_type": "markdown",
   "metadata": {},
   "source": [
    "## Multivariate Regression for 'open'"
   ]
  },
  {
   "cell_type": "code",
   "execution_count": 12,
   "metadata": {},
   "outputs": [
    {
     "name": "stdout",
     "output_type": "stream",
     "text": [
      "Error : 0.0035239 for Multivariate Linear Regression\n"
     ]
    }
   ],
   "source": [
    "X = data.iloc[:,2:5]\n",
    "y = data.iloc[:,1]\n",
    "normalized_X=(X-X.mean())/X.std()\n",
    "normalized_y=(y-y.mean())/y.std()\n",
    "X_train, X_test, y_train, y_test = train_test_split(normalized_X, normalized_y, test_size=0.20, random_state=42)\n",
    "model3 = LinearRegression()\n",
    "model3.fit(X_train, y_train)\n",
    "y_pred = model3.predict(X_test)\n",
    "err = mean_absolute_error(y_pred, y_test)\n",
    "print(\"Error : %.7f for Multivariate Linear Regression\" %(err))"
   ]
  },
  {
   "cell_type": "markdown",
   "metadata": {},
   "source": [
    "## Regularized Regression for 'close'"
   ]
  },
  {
   "cell_type": "code",
   "execution_count": 13,
   "metadata": {},
   "outputs": [
    {
     "name": "stdout",
     "output_type": "stream",
     "text": [
      "Error : 0.0055488 for Lasso Regression\n",
      "Error : 0.0034895 for Ridge Regression\n"
     ]
    }
   ],
   "source": [
    "X = data.iloc[:,1:4]\n",
    "y = data.iloc[:,4]\n",
    "normalized_X=(X-X.mean())/X.std()\n",
    "normalized_y=(y-y.mean())/y.std()\n",
    "X_train, X_test, y_train, y_test = train_test_split(normalized_X, normalized_y, test_size=0.25, random_state=42)\n",
    "\n",
    "# Lasso\n",
    "model4 = Lasso(alpha=1e-5, max_iter=5000)\n",
    "model4.fit(X_train,y_train)\n",
    "y_pred = model4.predict(X_test)\n",
    "err = mean_absolute_error(y_pred, y_test)\n",
    "print(\"Error : %.7f for Lasso Regression\" %(err))\n",
    "\n",
    "# Ridge\n",
    "model5 = Ridge(alpha=1e-3, max_iter=5000)\n",
    "model5.fit(X_train,y_train)\n",
    "y_pred = model5.predict(X_test)\n",
    "err = mean_absolute_error(y_pred, y_test)\n",
    "print(\"Error : %.7f for Ridge Regression\" %(err))"
   ]
  },
  {
   "cell_type": "markdown",
   "metadata": {},
   "source": [
    "## Multivariate Regression for 'close'"
   ]
  },
  {
   "cell_type": "code",
   "execution_count": 14,
   "metadata": {},
   "outputs": [
    {
     "name": "stdout",
     "output_type": "stream",
     "text": [
      "Error : 0.0034761 for Multivariate Linear Regression\n"
     ]
    }
   ],
   "source": [
    "X = data.iloc[:,1:4]\n",
    "y = data.iloc[:,4]\n",
    "normalized_X=(X-X.mean())/X.std()\n",
    "normalized_y=(y-y.mean())/y.std()\n",
    "X_train, X_test, y_train, y_test = train_test_split(normalized_X, normalized_y, test_size=0.20, random_state=42)\n",
    "model6 = LinearRegression()\n",
    "model6.fit(X_train, y_train)\n",
    "y_pred = model6.predict(X_test)\n",
    "err = mean_absolute_error(y_pred, y_test)\n",
    "print(\"Error : %.7f for Multivariate Linear Regression\" %(err))"
   ]
  }
 ],
 "metadata": {
  "kernelspec": {
   "display_name": "Python 3",
   "language": "python",
   "name": "python3"
  },
  "language_info": {
   "codemirror_mode": {
    "name": "ipython",
    "version": 3
   },
   "file_extension": ".py",
   "mimetype": "text/x-python",
   "name": "python",
   "nbconvert_exporter": "python",
   "pygments_lexer": "ipython3",
   "version": "3.8.3"
  }
 },
 "nbformat": 4,
 "nbformat_minor": 2
}
